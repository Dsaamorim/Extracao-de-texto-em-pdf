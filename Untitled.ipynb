{
 "cells": [
  {
   "cell_type": "code",
   "execution_count": 6,
   "id": "9cfc0afa",
   "metadata": {},
   "outputs": [],
   "source": [
    "import fitz "
   ]
  },
  {
   "cell_type": "code",
   "execution_count": 12,
   "id": "dace0c9d",
   "metadata": {},
   "outputs": [
    {
     "name": "stdout",
     "output_type": "stream",
     "text": [
      "MACHADO DE ASSIS \n",
      "• 17 •\n",
      "Tio Cosme respondeu com um “Ora!” que, traduzido em vulgar, queria \n",
      "dizer: “São imaginações do José Dias; os pequenos divertem-se, eu divirto-\n",
      "-me; onde está o gamão?”\n",
      "— Sim, creio que o senhor está enganado.\n",
      "— Pode ser, minha senhora. Oxalá tenham razão; mas creia que não falei \n",
      "senão depois de muito examinar...\n",
      "— Em todo caso, vai sendo tempo, interrompeu minha mãe; vou tratar \n",
      "de metê-lo no seminário quanto antes.\n",
      "— Bem, uma vez que não perdeu a ideia de o fazer padre, tem-se ganho \n",
      "o principal. Bentinho há de satisfazer os desejos de sua mãe. E depois a \n",
      "igreja brasileira tem altos destinos. Não esqueçamos que um bispo presidiu \n",
      "a Constituinte, e que o Padre Feijó governou o império...\n",
      "— Governou como a cara dele! atalhou tio Cosme, cedendo a antigos \n",
      "rancores políticos.\n",
      "— Perdão, doutor, não estou defendendo ninguém, estou citando. O que \n",
      "eu quero é dizer que o clero ainda tem grande papel no Brasil.\n",
      "— Você o que quer é um capote; ande, vá buscar o gamão. Quanto ao \n",
      "pequeno, se tem de ser padre, realmente é melhor que não comece a dizer \n",
      "missa atrás das portas. Mas olhe cá, mana Glória, há mesmo necessidade de \n",
      "fazê-lo padre?\n",
      "— É promessa, há de cumprir-se.\n",
      "— Sei que você fez promessa... mas, uma promessa assim... não sei... \n",
      "Creio que, bem pensado... Você que acha, prima Justina?\n",
      "— Eu?\n",
      "— Verdade é que cada um sabe melhor de si, continuou tio Cosme; Deus \n",
      "é que sabe de todos. Contudo, uma promessa de tantos anos... Mas, que é \n",
      "isso, mana Glória? Está chorando? Ora esta! Pois isto é coisa de lágrimas?\n",
      "Minha mãe assoou-se sem responder. Prima Justina creio que se levan-\n",
      "tou e foi ter com ela. Seguiu-se um alto silêncio, durante o qual estive a \n",
      "pique de entrar na sala, mas outra força maior, outra emoção... Não pude ou-\n",
      "vir as palavras que tio Cosme entrou a dizer. Prima Justina exortava: “Prima \n",
      "Glória! prima Glória!” José Dias desculpava-se: “Se soubesse, não teria fala-\n",
      "do, mas falei pela veneração, pela estima, pelo afeto, para cumprir um dever \n",
      "amargo, um dever amaríssimo...”\n",
      "MACHADO DE ASSIS \n",
      "• 17 •\n",
      "Tio Cosme respondeu com um “Ora!” que, traduzido em vulgar, queria \n",
      "dizer: “São imaginações do José Dias; os pequenos divertem-se, eu divirto-\n",
      "-me; onde está o gamão?”\n",
      "— Sim, creio que o senhor está enganado.\n",
      "— Pode ser, minha senhora. Oxalá tenham razão; mas creia que não falei \n",
      "senão depois de muito examinar...\n",
      "— Em todo caso, vai sendo tempo, interrompeu minha mãe; vou tratar \n",
      "de metê-lo no seminário quanto antes.\n",
      "— Bem, uma vez que não perdeu a ideia de o fazer padre, tem-se ganho \n",
      "o principal. Bentinho há de satisfazer os desejos de sua mãe. E depois a \n",
      "igreja brasileira tem altos destinos. Não esqueçamos que um bispo presidiu \n",
      "a Constituinte, e que o Padre Feijó governou o império...\n",
      "— Governou como a cara dele! atalhou tio Cosme, cedendo a antigos \n",
      "rancores políticos.\n",
      "— Perdão, doutor, não estou defendendo ninguém, estou citando. O que \n",
      "eu quero é dizer que o clero ainda tem grande papel no Brasil.\n",
      "— Você o que quer é um capote; ande, vá buscar o gamão. Quanto ao \n",
      "pequeno, se tem de ser padre, realmente é melhor que não comece a dizer \n",
      "missa atrás das portas. Mas olhe cá, mana Glória, há mesmo necessidade de \n",
      "fazê-lo padre?\n",
      "— É promessa, há de cumprir-se.\n",
      "— Sei que você fez promessa... mas, uma promessa assim... não sei... \n",
      "Creio que, bem pensado... Você que acha, prima Justina?\n",
      "— Eu?\n",
      "— Verdade é que cada um sabe melhor de si, continuou tio Cosme; Deus \n",
      "é que sabe de todos. Contudo, uma promessa de tantos anos... Mas, que é \n",
      "isso, mana Glória? Está chorando? Ora esta! Pois isto é coisa de lágrimas?\n",
      "Minha mãe assoou-se sem responder. Prima Justina creio que se levan-\n",
      "tou e foi ter com ela. Seguiu-se um alto silêncio, durante o qual estive a \n",
      "pique de entrar na sala, mas outra força maior, outra emoção... Não pude ou-\n",
      "vir as palavras que tio Cosme entrou a dizer. Prima Justina exortava: “Prima \n",
      "Glória! prima Glória!” José Dias desculpava-se: “Se soubesse, não teria fala-\n",
      "do, mas falei pela veneração, pela estima, pelo afeto, para cumprir um dever \n",
      "amargo, um dever amaríssimo...”\n",
      "\n",
      "\n"
     ]
    }
   ],
   "source": [
    "doc = fitz.open(\"Dom-Casmurro.pdf\")\n",
    "page = doc[15]\n",
    "text += f'{page.get_text()}\\n'\n",
    "print(text)"
   ]
  },
  {
   "cell_type": "code",
   "execution_count": null,
   "id": "e5c6e758",
   "metadata": {},
   "outputs": [],
   "source": []
  }
 ],
 "metadata": {
  "kernelspec": {
   "display_name": "Python 3",
   "language": "python",
   "name": "python3"
  },
  "language_info": {
   "codemirror_mode": {
    "name": "ipython",
    "version": 3
   },
   "file_extension": ".py",
   "mimetype": "text/x-python",
   "name": "python",
   "nbconvert_exporter": "python",
   "pygments_lexer": "ipython3",
   "version": "3.8.8"
  }
 },
 "nbformat": 4,
 "nbformat_minor": 5
}
